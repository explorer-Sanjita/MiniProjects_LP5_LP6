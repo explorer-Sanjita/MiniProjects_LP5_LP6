{
  "nbformat": 4,
  "nbformat_minor": 0,
  "metadata": {
    "colab": {
      "provenance": [],
      "authorship_tag": "ABX9TyPoOip7Qal9fWZIkDoV9V2J",
      "include_colab_link": true
    },
    "kernelspec": {
      "name": "python3",
      "display_name": "Python 3"
    },
    "language_info": {
      "name": "python"
    }
  },
  "cells": [
    {
      "cell_type": "markdown",
      "metadata": {
        "id": "view-in-github",
        "colab_type": "text"
      },
      "source": [
        "<a href=\"https://colab.research.google.com/github/explorer-Sanjita/MiniProjects_LP5_LP6/blob/main/NLP_POS_Taggers_hindi.ipynb\" target=\"_parent\"><img src=\"https://colab.research.google.com/assets/colab-badge.svg\" alt=\"Open In Colab\"/></a>"
      ]
    },
    {
      "cell_type": "code",
      "execution_count": 4,
      "metadata": {
        "colab": {
          "base_uri": "https://localhost:8080/"
        },
        "id": "y9J7mTQNMWP2",
        "outputId": "b05bfb36-e56d-46fc-82cb-a3af5aca24f1"
      },
      "outputs": [
        {
          "output_type": "stream",
          "name": "stdout",
          "text": [
            "Requirement already satisfied: nltk in /usr/local/lib/python3.11/dist-packages (3.9.1)\n",
            "Requirement already satisfied: indic-nlp-library in /usr/local/lib/python3.11/dist-packages (0.92)\n",
            "Requirement already satisfied: click in /usr/local/lib/python3.11/dist-packages (from nltk) (8.1.8)\n",
            "Requirement already satisfied: joblib in /usr/local/lib/python3.11/dist-packages (from nltk) (1.4.2)\n",
            "Requirement already satisfied: regex>=2021.8.3 in /usr/local/lib/python3.11/dist-packages (from nltk) (2024.11.6)\n",
            "Requirement already satisfied: tqdm in /usr/local/lib/python3.11/dist-packages (from nltk) (4.67.1)\n",
            "Requirement already satisfied: sphinx-argparse in /usr/local/lib/python3.11/dist-packages (from indic-nlp-library) (0.5.2)\n",
            "Requirement already satisfied: sphinx-rtd-theme in /usr/local/lib/python3.11/dist-packages (from indic-nlp-library) (3.0.2)\n",
            "Requirement already satisfied: morfessor in /usr/local/lib/python3.11/dist-packages (from indic-nlp-library) (2.0.6)\n",
            "Requirement already satisfied: pandas in /usr/local/lib/python3.11/dist-packages (from indic-nlp-library) (2.2.2)\n",
            "Requirement already satisfied: numpy in /usr/local/lib/python3.11/dist-packages (from indic-nlp-library) (2.0.2)\n",
            "Requirement already satisfied: python-dateutil>=2.8.2 in /usr/local/lib/python3.11/dist-packages (from pandas->indic-nlp-library) (2.8.2)\n",
            "Requirement already satisfied: pytz>=2020.1 in /usr/local/lib/python3.11/dist-packages (from pandas->indic-nlp-library) (2025.2)\n",
            "Requirement already satisfied: tzdata>=2022.7 in /usr/local/lib/python3.11/dist-packages (from pandas->indic-nlp-library) (2025.2)\n",
            "Requirement already satisfied: sphinx>=5.1.0 in /usr/local/lib/python3.11/dist-packages (from sphinx-argparse->indic-nlp-library) (8.2.3)\n",
            "Requirement already satisfied: docutils>=0.19 in /usr/local/lib/python3.11/dist-packages (from sphinx-argparse->indic-nlp-library) (0.21.2)\n",
            "Requirement already satisfied: sphinxcontrib-jquery<5,>=4 in /usr/local/lib/python3.11/dist-packages (from sphinx-rtd-theme->indic-nlp-library) (4.1)\n",
            "Requirement already satisfied: six>=1.5 in /usr/local/lib/python3.11/dist-packages (from python-dateutil>=2.8.2->pandas->indic-nlp-library) (1.17.0)\n",
            "Requirement already satisfied: sphinxcontrib-applehelp>=1.0.7 in /usr/local/lib/python3.11/dist-packages (from sphinx>=5.1.0->sphinx-argparse->indic-nlp-library) (2.0.0)\n",
            "Requirement already satisfied: sphinxcontrib-devhelp>=1.0.6 in /usr/local/lib/python3.11/dist-packages (from sphinx>=5.1.0->sphinx-argparse->indic-nlp-library) (2.0.0)\n",
            "Requirement already satisfied: sphinxcontrib-htmlhelp>=2.0.6 in /usr/local/lib/python3.11/dist-packages (from sphinx>=5.1.0->sphinx-argparse->indic-nlp-library) (2.1.0)\n",
            "Requirement already satisfied: sphinxcontrib-jsmath>=1.0.1 in /usr/local/lib/python3.11/dist-packages (from sphinx>=5.1.0->sphinx-argparse->indic-nlp-library) (1.0.1)\n",
            "Requirement already satisfied: sphinxcontrib-qthelp>=1.0.6 in /usr/local/lib/python3.11/dist-packages (from sphinx>=5.1.0->sphinx-argparse->indic-nlp-library) (2.0.0)\n",
            "Requirement already satisfied: sphinxcontrib-serializinghtml>=1.1.9 in /usr/local/lib/python3.11/dist-packages (from sphinx>=5.1.0->sphinx-argparse->indic-nlp-library) (2.0.0)\n",
            "Requirement already satisfied: Jinja2>=3.1 in /usr/local/lib/python3.11/dist-packages (from sphinx>=5.1.0->sphinx-argparse->indic-nlp-library) (3.1.6)\n",
            "Requirement already satisfied: Pygments>=2.17 in /usr/local/lib/python3.11/dist-packages (from sphinx>=5.1.0->sphinx-argparse->indic-nlp-library) (2.18.0)\n",
            "Requirement already satisfied: snowballstemmer>=2.2 in /usr/local/lib/python3.11/dist-packages (from sphinx>=5.1.0->sphinx-argparse->indic-nlp-library) (2.2.0)\n",
            "Requirement already satisfied: babel>=2.13 in /usr/local/lib/python3.11/dist-packages (from sphinx>=5.1.0->sphinx-argparse->indic-nlp-library) (2.17.0)\n",
            "Requirement already satisfied: alabaster>=0.7.14 in /usr/local/lib/python3.11/dist-packages (from sphinx>=5.1.0->sphinx-argparse->indic-nlp-library) (1.0.0)\n",
            "Requirement already satisfied: imagesize>=1.3 in /usr/local/lib/python3.11/dist-packages (from sphinx>=5.1.0->sphinx-argparse->indic-nlp-library) (1.4.1)\n",
            "Requirement already satisfied: requests>=2.30.0 in /usr/local/lib/python3.11/dist-packages (from sphinx>=5.1.0->sphinx-argparse->indic-nlp-library) (2.32.3)\n",
            "Requirement already satisfied: roman-numerals-py>=1.0.0 in /usr/local/lib/python3.11/dist-packages (from sphinx>=5.1.0->sphinx-argparse->indic-nlp-library) (3.1.0)\n",
            "Requirement already satisfied: packaging>=23.0 in /usr/local/lib/python3.11/dist-packages (from sphinx>=5.1.0->sphinx-argparse->indic-nlp-library) (24.2)\n",
            "Requirement already satisfied: MarkupSafe>=2.0 in /usr/local/lib/python3.11/dist-packages (from Jinja2>=3.1->sphinx>=5.1.0->sphinx-argparse->indic-nlp-library) (3.0.2)\n",
            "Requirement already satisfied: charset-normalizer<4,>=2 in /usr/local/lib/python3.11/dist-packages (from requests>=2.30.0->sphinx>=5.1.0->sphinx-argparse->indic-nlp-library) (3.4.1)\n",
            "Requirement already satisfied: idna<4,>=2.5 in /usr/local/lib/python3.11/dist-packages (from requests>=2.30.0->sphinx>=5.1.0->sphinx-argparse->indic-nlp-library) (3.10)\n",
            "Requirement already satisfied: urllib3<3,>=1.21.1 in /usr/local/lib/python3.11/dist-packages (from requests>=2.30.0->sphinx>=5.1.0->sphinx-argparse->indic-nlp-library) (2.3.0)\n",
            "Requirement already satisfied: certifi>=2017.4.17 in /usr/local/lib/python3.11/dist-packages (from requests>=2.30.0->sphinx>=5.1.0->sphinx-argparse->indic-nlp-library) (2025.1.31)\n"
          ]
        },
        {
          "output_type": "stream",
          "name": "stderr",
          "text": [
            "[nltk_data] Downloading package indian to /root/nltk_data...\n",
            "[nltk_data]   Package indian is already up-to-date!\n",
            "[nltk_data] Downloading package punkt to /root/nltk_data...\n",
            "[nltk_data]   Package punkt is already up-to-date!\n",
            "<ipython-input-4-c734c02f58d3>:39: DeprecationWarning: \n",
            "  Function evaluate() has been deprecated.  Use accuracy(gold)\n",
            "  instead.\n",
            "  print(\"Rule-Based (Unigram + Regexp) Accuracy:\", unigram_tagger.evaluate(test_data))\n",
            "<ipython-input-4-c734c02f58d3>:40: DeprecationWarning: \n",
            "  Function evaluate() has been deprecated.  Use accuracy(gold)\n",
            "  instead.\n",
            "  print(\"HMM Tagger Accuracy:\", hmm_tagger.evaluate(test_data))\n"
          ]
        },
        {
          "output_type": "stream",
          "name": "stdout",
          "text": [
            "Rule-Based (Unigram + Regexp) Accuracy: 0.8099891422366993\n",
            "HMM Tagger Accuracy: 0.26058631921824105\n",
            "\n",
            "Tagged by Rule-Based Tagger:\n",
            "[('तुम्हारी', 'NN'), ('मेहनत', 'NN'), ('और', 'CC'), ('ईमानदारी', 'NN'), ('ही', 'RP'), ('तुम्हारे', 'NN'), ('भविष्य', 'NN'), ('को', 'PREP'), ('उज्जवल', 'NN'), ('बनाएगी।', 'NN')]\n",
            "\n",
            "Tagged by HMM Tagger:\n",
            "[('तुम्हारी', 'JJ'), ('मेहनत', 'JJ'), ('और', 'JJ'), ('ईमानदारी', 'JJ'), ('ही', 'JJ'), ('तुम्हारे', 'JJ'), ('भविष्य', 'JJ'), ('को', 'JJ'), ('उज्जवल', 'JJ'), ('बनाएगी।', 'JJ')]\n"
          ]
        }
      ],
      "source": [
        "!pip install nltk indic-nlp-library\n",
        "\n",
        "import nltk\n",
        "from nltk.tag.hmm import HiddenMarkovModelTrainer\n",
        "from nltk.tag import UnigramTagger, RegexpTagger\n",
        "from nltk.corpus import indian\n",
        "\n",
        "# Download required corpora\n",
        "nltk.download('indian')\n",
        "nltk.download('punkt')\n",
        "\n",
        "# Load tagged Hindi corpus\n",
        "corpus = indian.tagged_sents('hindi.pos')\n",
        "\n",
        "# Split into training and testing\n",
        "train_data = corpus[:int(0.9 * len(corpus))]\n",
        "test_data = corpus[int(0.9 * len(corpus)):]\n",
        "\n",
        "# Rule-based pattern tagger\n",
        "patterns = [\n",
        "    (r'.*ता$', 'NN'),\n",
        "    (r'.*ाएंगे$', 'VM'),\n",
        "    (r'.*कर$', 'VM'),\n",
        "    (r'.*ने$', 'PSP'),\n",
        "    (r'^\\d+$', 'CD'),\n",
        "    (r'.*', 'NN')\n",
        "]\n",
        "\n",
        "regexp_tagger = RegexpTagger(patterns)\n",
        "\n",
        "# Unigram tagger with fallback\n",
        "unigram_tagger = UnigramTagger(train_data, backoff=regexp_tagger)\n",
        "\n",
        "# HMM-based tagger\n",
        "hmm_trainer = HiddenMarkovModelTrainer()\n",
        "hmm_tagger = hmm_trainer.train_supervised(train_data)\n",
        "\n",
        "# Evaluate accuracy\n",
        "print(\"Rule-Based (Unigram + Regexp) Accuracy:\", unigram_tagger.evaluate(test_data))\n",
        "print(\"HMM Tagger Accuracy:\", hmm_tagger.evaluate(test_data))\n",
        "\n",
        "# Use simple tokenizer for Hindi\n",
        "example_sentence = \"तुम्हारी मेहनत और ईमानदारी ही तुम्हारे भविष्य को उज्जवल बनाएगी।\"\n",
        "tokens = example_sentence.strip().split()\n",
        "\n",
        "print(\"\\nTagged by Rule-Based Tagger:\")\n",
        "print(unigram_tagger.tag(tokens))\n",
        "\n",
        "print(\"\\nTagged by HMM Tagger:\")\n",
        "print(hmm_tagger.tag(tokens))\n"
      ]
    }
  ]
}